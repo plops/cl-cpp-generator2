{
  "cells": [
    {
      "cell_type": "code",
      "metadata": {},
      "execution_count": null,
      "outputs": [],
      "source": [
        "//|default_exp c00_main\n"
      ]
    },
    {
      "cell_type": "markdown",
      "metadata": {},
      "source": [
        "show all known namespaces\n"
      ]
    },
    {
      "cell_type": "code",
      "metadata": {},
      "execution_count": null,
      "outputs": [],
      "source": [
        ".namespace\n"
      ]
    },
    {
      "cell_type": "markdown",
      "metadata": {},
      "source": [
        "show all global variables\n"
      ]
    },
    {
      "cell_type": "code",
      "metadata": {},
      "execution_count": null,
      "outputs": [],
      "source": [
        ".g\n"
      ]
    },
    {
      "cell_type": "markdown",
      "metadata": {},
      "source": [
        "show help for cling commands\n"
      ]
    },
    {
      "cell_type": "code",
      "metadata": {},
      "execution_count": null,
      "outputs": [],
      "source": [
        ".help\n"
      ]
    },
    {
      "cell_type": "markdown",
      "metadata": {},
      "source": [
        "show all typedefs\n"
      ]
    },
    {
      "cell_type": "code",
      "metadata": {},
      "execution_count": null,
      "outputs": [],
      "source": [
        ".typedef\n"
      ]
    },
    {
      "cell_type": "markdown",
      "metadata": {},
      "source": [
        "show all parsed files\n"
      ]
    },
    {
      "cell_type": "code",
      "metadata": {},
      "execution_count": null,
      "outputs": [],
      "source": [
        ".files\n"
      ]
    },
    {
      "cell_type": "markdown",
      "metadata": {},
      "source": [
        "show all parsed files with statistics\n"
      ]
    },
    {
      "cell_type": "code",
      "metadata": {},
      "execution_count": null,
      "outputs": [],
      "source": [
        ".fileEx\n"
      ]
    },
    {
      "cell_type": "markdown",
      "metadata": {},
      "source": [
        "show optimization level\n"
      ]
    },
    {
      "cell_type": "code",
      "metadata": {},
      "execution_count": null,
      "outputs": [],
      "source": [
        ".O\n"
      ]
    },
    {
      "cell_type": "code",
      "metadata": {},
      "execution_count": null,
      "outputs": [],
      "source": [
        "// looks like i have to execute this cell before i can execute the includes\n",
        "\n",
        "auto _a{int(12)};\n",
        "auto _b{int(32)};\n",
        "(_a) + (_b);\n"
      ]
    },
    {
      "cell_type": "code",
      "metadata": {},
      "execution_count": null,
      "outputs": [],
      "source": [
        "// Clang 9.0.1 (http://root.cern.ch/git/clang.git\n",
        "// ddd3a61c4ec7cb9661e8dc9781dc797f70537519) (http://root.cern.ch/git/llvm.git\n",
        "// c41338c59334340ee4d85a7c9bbdf49a4f59f76b)\n",
        "\n",
        "__amd64__;\n",
        "__linux__;\n",
        "__cplusplus__;\n",
        "__SSE__;\n",
        "__SSE2__;\n",
        "__MMX__;\n",
        "__GLIBCXX_FAST_MATH;\n",
        "_GLIBCXX_USE_FLOAT128;\n",
        "NDEBUG;\n",
        "__VERSION__;\n"
      ]
    },
    {
      "cell_type": "code",
      "metadata": {},
      "execution_count": null,
      "outputs": [],
      "source": [
        ".g _a\n"
      ]
    },
    {
      "cell_type": "code",
      "metadata": {},
      "execution_count": null,
      "outputs": [],
      "source": [
        "//|export\n",
        "#include <chrono>\n",
        "#include <iomanip>\n",
        "#include <iostream>\n",
        "#include <thread>\n"
      ]
    },
    {
      "cell_type": "code",
      "metadata": {},
      "execution_count": null,
      "outputs": [],
      "source": [
        "std::chrono::time_point<std::chrono::high_resolution_clock> g_start_time;\n"
      ]
    },
    {
      "cell_type": "code",
      "metadata": {},
      "execution_count": null,
      "outputs": [],
      "source": [
        "(g_start_time) = (std::chrono::high_resolution_clock::now());\n"
      ]
    },
    {
      "cell_type": "code",
      "metadata": {},
      "execution_count": null,
      "outputs": [],
      "source": [
        "\n",
        "void lprint(std::initializer_list<std::string> il) {\n",
        "  std::chrono::duration<double> timestamp =\n",
        "      std::chrono::high_resolution_clock::now() - g_start_time;\n",
        "  (std::cout) << (std::setw(10)) << (timestamp.count()) << (\" \")\n",
        "              << (std::this_thread::get_id()) << (\" \");\n",
        "  for (const auto &elem(type, const auto &) : il) {\n",
        "    (std::cout) << (elem);\n",
        "  }\n",
        "  (std::cout) << (std::endl) << (std::flush);\n",
        "}\n"
      ]
    },
    {
      "cell_type": "code",
      "metadata": {},
      "execution_count": null,
      "outputs": [],
      "source": [
        "{\n",
        "  auto a{int(3)};\n",
        "  auto b{int(44)};\n",
        "  lprint({__FILE__, \":\", std::to_string(__LINE__), \" \", __func__, \" \", \"\", \" \",\n",
        "          \" a='\", std::to_string(a), \"'\", \" b='\", std::to_string(b), \"'\",\n",
        "          \" (a)+(b)='\", std::to_string((a) + (b)), \"'\"});\n",
        "}\n"
      ]
    },
    {
      "cell_type": "code",
      "metadata": {},
      "execution_count": null,
      "outputs": [],
      "source": [
        "//|export\n",
        "\n",
        "int main(int argc, char **argv) { return 0; }\n"
      ]
    }
  ],
  "metadata": {
    "kernelspec": {
      "display_name": "C++17",
      "language": "C++17",
      "name": "xcpp17"
    }
  },
  "nbformat": 4,
  "nbformat_minor": 2
}
